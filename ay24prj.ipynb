{
 "cells": [
  {
   "cell_type": "code",
   "execution_count": 1,
   "metadata": {},
   "outputs": [],
   "source": [
    "import pandas as pd\n",
    "import numpy as np\n",
    "import os\n",
    "import janitor\n",
    "import matplotlib.pyplot as plt\n",
    "import seaborn as sns\n",
    "import logging"
   ]
  },
  {
   "cell_type": "code",
   "execution_count": 2,
   "metadata": {},
   "outputs": [],
   "source": [
    "# Read in multiple CSV files\n",
    "csv_files_c300 = [\n",
    "    'bb_data/C300_Analytics/C300_SEC01.csv',\n",
    "    'bb_data/C300_Analytics/C300_SEC02.csv',\n",
    "    'bb_data/C300_Analytics/C300_SEC04.csv',\n",
    "    'bb_data/C300_Analytics/C300_SEC05.csv',\n",
    "    'bb_data/C300_Analytics/C300_SEC06.csv',\n",
    "    'bb_data/C300_Analytics/C300_SEC07.csv',\n",
    "    'bb_data/C300_Analytics/C300_SEC08.csv',\n",
    "    'bb_data/C300_Analytics/C300_SEC09.csv',\n",
    "    'bb_data/C300_Analytics/C300_SEC10.csv',\n",
    "    'bb_data/C300_Analytics/C300_SEC11.csv',\n",
    "    'bb_data/C300_Analytics/C300_SEC12.csv',\n",
    "    'bb_data/C300_Analytics/C300_SEC13.csv',\n",
    "    'bb_data/C300_Analytics/C300_SEC14.csv',\n",
    "    'bb_data/C300_Analytics/C300_SEC15.csv',\n",
    "    'bb_data/C300_Analytics/C300_SEC16.csv',\n",
    "    'bb_data/C300_Analytics/C300_SEC17.csv',\n",
    "    'bb_data/C300_Analytics/C300_SEC18.csv',\n",
    "    'bb_data/C300_Analytics/C300_SEC19.csv'\n",
    "]\n",
    "\n",
    "csv_files_c500 = [\n",
    "    'bb_data/C500_Analytics/C500_SEC01.csv',\n",
    "    'bb_data/C500_Analytics/C500_SEC02.csv',\n",
    "    'bb_data/C500_Analytics/C500_SEC04.csv',\n",
    "    'bb_data/C500_Analytics/C500_SEC05.csv',\n",
    "    'bb_data/C500_Analytics/C500_SEC06.csv',\n",
    "    'bb_data/C500_Analytics/C500_SEC07.csv',\n",
    "    'bb_data/C500_Analytics/C500_SEC08.csv',\n",
    "    'bb_data/C500_Analytics/C500_SEC09.csv',\n",
    "    'bb_data/C500_Analytics/C500_SEC10.csv',\n",
    "    'bb_data/C500_Analytics/C500_SEC11.csv',\n",
    "    'bb_data/C500_Analytics/C500_SEC12.csv',\n",
    "    'bb_data/C500_Analytics/C500_SEC13.csv',\n",
    "    'bb_data/C500_Analytics/C500_SEC14.csv',\n",
    "    'bb_data/C500_Analytics/C500_SEC15.csv',\n",
    "    'bb_data/C500_Analytics/C500_SEC16.csv',\n",
    "    'bb_data/C500_Analytics/C500_SEC17.csv',\n",
    "    'bb_data/C500_Analytics/C500_SEC18.csv',\n",
    "    'bb_data/C500_Analytics/C500_SEC19.csv'\n",
    "]\n",
    "\n",
    "def read_and_concat_csv_files(csv_files, output_file):\n",
    "    # Initialize an empty list to store DataFrames\n",
    "    dataframes = []\n",
    "\n",
    "    # Read the first CSV file to get the column headers\n",
    "    initial_df = pd.read_csv(csv_files[0])\n",
    "    initial_columns = initial_df.columns\n",
    "\n",
    "    # Loop through the list of files\n",
    "    for file in csv_files:\n",
    "        # Read the current CSV file into a DataFrame, ensuring it matches the initial columns\n",
    "        df = pd.read_csv(file, usecols=lambda column: column in initial_columns).reindex(columns=initial_columns)\n",
    "\n",
    "        # Drop rows where all cells are blank\n",
    "        df.dropna(how='all', inplace=True)\n",
    "\n",
    "        # Append the DataFrame to the list\n",
    "        dataframes.append(df)\n",
    "\n",
    "    # Concatenate all DataFrames in the list into a single DataFrame\n",
    "    compiled_df = pd.concat(dataframes, ignore_index=True)\n",
    "\n",
    "    # Save the compiled DataFrame\n",
    "    compiled_df.to_csv(output_file, index=False)\n",
    "\n",
    "# Read and concatenate C300 and C500 CSV files\n",
    "read_and_concat_csv_files(csv_files_c300, 'data/C300.csv')\n",
    "read_and_concat_csv_files(csv_files_c500, 'data/C500.csv')\n"
   ]
  },
  {
   "cell_type": "code",
   "execution_count": 3,
   "metadata": {},
   "outputs": [],
   "source": [
    "# List of file paths\n",
    "file_paths = [\n",
    "    \"data/C100.csv\",\n",
    "    \"data/C200.csv\",\n",
    "    \"data/C300.csv\",\n",
    "    \"data/C400.csv\",\n",
    "    \"data/C500.csv\",\n",
    "    \"data/F100.csv\",\n",
    "    \"data/H100.csv\",\n",
    "    \"data/S100.csv\",\n",
    "    \"data/M000.csv\",\n",
    "    \"data/M100.csv\",\n",
    "    \"data/M200.csv\",\n",
    "    \"data/M300.csv\",\n",
    "    \"data/M400.csv\",\n",
    "    'data/X102.csv'\n",
    "]"
   ]
  },
  {
   "cell_type": "code",
   "execution_count": 4,
   "metadata": {},
   "outputs": [],
   "source": [
    "# Configure logging\n",
    "logging.basicConfig(level=logging.DEBUG, format='%(asctime)s - %(levelname)s - %(message)s')"
   ]
  },
  {
   "cell_type": "markdown",
   "metadata": {},
   "source": [
    "### Define the Processing Function - run this once\n",
    "#### Cleaning the data from multiple csv files"
   ]
  },
  {
   "cell_type": "code",
   "execution_count": 5,
   "metadata": {},
   "outputs": [],
   "source": [
    "# %%\n",
    "def process_files(file_paths, output_dir='cleaned_data', key_columns=None, drop_columns=None):\n",
    "    if key_columns is None:\n",
    "        key_columns = ['last_name', 'first_name', 'username']\n",
    "    if drop_columns is None:\n",
    "        drop_columns = ['username', 'availability']  # Including 'availability'\n",
    "\n",
    "    dataframes = []\n",
    "\n",
    "    # Read the CSV files\n",
    "    for file_path in file_paths:\n",
    "        if os.path.exists(file_path):\n",
    "            df = pd.read_csv(file_path)\n",
    "            # Remove columns with names starting with \"Unnamed\"\n",
    "            df = df.loc[:, ~df.columns.str.contains('^unnamed', case=False)]\n",
    "            \n",
    "            # Strip whitespace from column names\n",
    "            df.columns = df.columns.str.strip()\n",
    "\n",
    "            dataframes.append((os.path.basename(file_path), df))\n",
    "        else:\n",
    "            print(f\"File not found: {file_path}\")\n",
    "\n",
    "    # Drop duplicates based on key identifying columns, keep first occurrence\n",
    "    dataframes = [(name, df.drop_duplicates(subset=key_columns, keep='first')) for name, df in dataframes]\n",
    "\n",
    "    # Remove empty columns\n",
    "    dataframes = [(name, df.dropna(axis=1, how='all')) for name, df in dataframes]\n",
    "\n",
    "    # Correct data types\n",
    "    dataframes = [(name, df.convert_dtypes()) for name, df in dataframes]\n",
    "\n",
    "    # Replace blank cells with NaN\n",
    "    dataframes = [(name, df.replace(r'^\\s*$', np.nan, regex=True)) for name, df in dataframes]\n",
    "\n",
    "    # Rename columns to lowercase and replace spaces with underscores\n",
    "    for i, (name, df) in enumerate(dataframes):\n",
    "        df.columns = df.columns.str.lower().str.replace(' ', '_')\n",
    "        dataframes[i] = (name, df)\n",
    "\n",
    "    # Split learner_id into team and section\n",
    "    for i, (name, df) in enumerate(dataframes):\n",
    "        if 'learner_id' in df.columns:\n",
    "            # Extract team and section using the correct pattern\n",
    "            extracted = df['learner_id'].str.extract(r'(\\d+)([A-Z])')\n",
    "            df.loc[:, 'team'] = extracted[0].astype(str).str.zfill(2)\n",
    "            df.loc[:, 'section'] = extracted[1]\n",
    "        dataframes[i] = (name, df)\n",
    "\n",
    "    # Remove the username column if it exists\n",
    "    for i, (name, df) in enumerate(dataframes):\n",
    "        if 'username' in df.columns:\n",
    "            df = df.drop(columns=['username'])\n",
    "        dataframes[i] = (name, df)\n",
    "\n",
    "    # Generate a unique identifier\n",
    "    for i, (name, df) in enumerate(dataframes):\n",
    "        if 'last_name' in df.columns and 'first_name' in df.columns and 'team' in df.columns and 'section' in df.columns:\n",
    "            # Fill missing section values with a placeholder\n",
    "            df['section'] = df['section'].fillna('0')\n",
    "            df['identifier'] = df['last_name'].str[0] + df['first_name'].str[0] + df['team'] + df['section']\n",
    "\n",
    "            # Handle potential conflicts\n",
    "            counts = df['identifier'].value_counts()\n",
    "            conflicts = counts[counts > 1].index\n",
    "\n",
    "            for conflict in conflicts:\n",
    "                conflict_indices = df[df['identifier'] == conflict].index\n",
    "                for j, index in enumerate(conflict_indices):\n",
    "                    df.loc[index, 'identifier'] = f\"{conflict}{j+1}\"\n",
    "\n",
    "            # Move the identifier, team, and section to the leftmost columns\n",
    "            cols = df.columns.tolist()\n",
    "            new_order = ['identifier', 'team', 'section'] + [col for col in cols if col not in ['identifier', 'team', 'section']]\n",
    "            df = df[new_order]\n",
    "\n",
    "        dataframes[i] = (name, df)\n",
    "\n",
    "    # Save the cleaned dataframes to the output directory\n",
    "    for name, df in dataframes:\n",
    "        output_path = os.path.join(output_dir, name)\n",
    "        df.to_csv(output_path, index=False)\n",
    "\n",
    "    return dataframes\n"
   ]
  },
  {
   "cell_type": "code",
   "execution_count": 6,
   "metadata": {},
   "outputs": [
    {
     "ename": "KeyError",
     "evalue": "Index(['first_name', 'username', 'last_name'], dtype='object')",
     "output_type": "error",
     "traceback": [
      "\u001b[1;31m---------------------------------------------------------------------------\u001b[0m",
      "\u001b[1;31mKeyError\u001b[0m                                  Traceback (most recent call last)",
      "\u001b[1;32m~\\AppData\\Local\\Temp\\ipykernel_14612\\2260898681.py\u001b[0m in \u001b[0;36m?\u001b[1;34m()\u001b[0m\n\u001b[0;32m      1\u001b[0m \u001b[1;31m# Execute the process_files function with the file_paths argument\u001b[0m\u001b[1;33m\u001b[0m\u001b[1;33m\u001b[0m\u001b[0m\n\u001b[1;32m----> 2\u001b[1;33m \u001b[0mprocessed_dataframes\u001b[0m \u001b[1;33m=\u001b[0m \u001b[0mprocess_files\u001b[0m\u001b[1;33m(\u001b[0m\u001b[0mfile_paths\u001b[0m\u001b[1;33m)\u001b[0m\u001b[1;33m\u001b[0m\u001b[1;33m\u001b[0m\u001b[0m\n\u001b[0m\u001b[0;32m      3\u001b[0m \u001b[1;33m\u001b[0m\u001b[0m\n\u001b[0;32m      4\u001b[0m \u001b[1;31m# Optional: Print out the processed dataframes or perform further analysis\u001b[0m\u001b[1;33m\u001b[0m\u001b[1;33m\u001b[0m\u001b[0m\n\u001b[0;32m      5\u001b[0m \u001b[1;32mfor\u001b[0m \u001b[0mname\u001b[0m\u001b[1;33m,\u001b[0m \u001b[0mdf\u001b[0m \u001b[1;32min\u001b[0m \u001b[0mprocessed_dataframes\u001b[0m\u001b[1;33m:\u001b[0m\u001b[1;33m\u001b[0m\u001b[1;33m\u001b[0m\u001b[0m\n",
      "\u001b[1;32m~\\AppData\\Local\\Temp\\ipykernel_14612\\3556915364.py\u001b[0m in \u001b[0;36m?\u001b[1;34m(file_paths, output_dir, key_columns, drop_columns)\u001b[0m\n\u001b[0;32m     21\u001b[0m         \u001b[1;32melse\u001b[0m\u001b[1;33m:\u001b[0m\u001b[1;33m\u001b[0m\u001b[1;33m\u001b[0m\u001b[0m\n\u001b[0;32m     22\u001b[0m             \u001b[0mprint\u001b[0m\u001b[1;33m(\u001b[0m\u001b[1;33mf\"\u001b[0m\u001b[1;33mFile not found: \u001b[0m\u001b[1;33m{\u001b[0m\u001b[0mfile_path\u001b[0m\u001b[1;33m}\u001b[0m\u001b[1;33m\"\u001b[0m\u001b[1;33m)\u001b[0m\u001b[1;33m\u001b[0m\u001b[1;33m\u001b[0m\u001b[0m\n\u001b[0;32m     23\u001b[0m \u001b[1;33m\u001b[0m\u001b[0m\n\u001b[0;32m     24\u001b[0m     \u001b[1;31m# Drop duplicates based on key identifying columns, keep first occurrence\u001b[0m\u001b[1;33m\u001b[0m\u001b[1;33m\u001b[0m\u001b[0m\n\u001b[1;32m---> 25\u001b[1;33m     \u001b[0mdataframes\u001b[0m \u001b[1;33m=\u001b[0m \u001b[1;33m[\u001b[0m\u001b[1;33m(\u001b[0m\u001b[0mname\u001b[0m\u001b[1;33m,\u001b[0m \u001b[0mdf\u001b[0m\u001b[1;33m.\u001b[0m\u001b[0mdrop_duplicates\u001b[0m\u001b[1;33m(\u001b[0m\u001b[0msubset\u001b[0m\u001b[1;33m=\u001b[0m\u001b[0mkey_columns\u001b[0m\u001b[1;33m,\u001b[0m \u001b[0mkeep\u001b[0m\u001b[1;33m=\u001b[0m\u001b[1;34m'first'\u001b[0m\u001b[1;33m)\u001b[0m\u001b[1;33m)\u001b[0m \u001b[1;32mfor\u001b[0m \u001b[0mname\u001b[0m\u001b[1;33m,\u001b[0m \u001b[0mdf\u001b[0m \u001b[1;32min\u001b[0m \u001b[0mdataframes\u001b[0m\u001b[1;33m]\u001b[0m\u001b[1;33m\u001b[0m\u001b[1;33m\u001b[0m\u001b[0m\n\u001b[0m\u001b[0;32m     26\u001b[0m \u001b[1;33m\u001b[0m\u001b[0m\n\u001b[0;32m     27\u001b[0m     \u001b[1;31m# Remove empty columns\u001b[0m\u001b[1;33m\u001b[0m\u001b[1;33m\u001b[0m\u001b[0m\n\u001b[0;32m     28\u001b[0m     \u001b[0mdataframes\u001b[0m \u001b[1;33m=\u001b[0m \u001b[1;33m[\u001b[0m\u001b[1;33m(\u001b[0m\u001b[0mname\u001b[0m\u001b[1;33m,\u001b[0m \u001b[0mdf\u001b[0m\u001b[1;33m.\u001b[0m\u001b[0mdropna\u001b[0m\u001b[1;33m(\u001b[0m\u001b[0maxis\u001b[0m\u001b[1;33m=\u001b[0m\u001b[1;36m1\u001b[0m\u001b[1;33m,\u001b[0m \u001b[0mhow\u001b[0m\u001b[1;33m=\u001b[0m\u001b[1;34m'all'\u001b[0m\u001b[1;33m)\u001b[0m\u001b[1;33m)\u001b[0m \u001b[1;32mfor\u001b[0m \u001b[0mname\u001b[0m\u001b[1;33m,\u001b[0m \u001b[0mdf\u001b[0m \u001b[1;32min\u001b[0m \u001b[0mdataframes\u001b[0m\u001b[1;33m]\u001b[0m\u001b[1;33m\u001b[0m\u001b[1;33m\u001b[0m\u001b[0m\n",
      "\u001b[1;32mc:\\Users\\balla\\Documents\\ay24prj\\.venv\\Lib\\site-packages\\pandas\\core\\frame.py\u001b[0m in \u001b[0;36m?\u001b[1;34m(self, subset, keep, inplace, ignore_index)\u001b[0m\n\u001b[0;32m   6814\u001b[0m \u001b[1;33m\u001b[0m\u001b[0m\n\u001b[0;32m   6815\u001b[0m         \u001b[0minplace\u001b[0m \u001b[1;33m=\u001b[0m \u001b[0mvalidate_bool_kwarg\u001b[0m\u001b[1;33m(\u001b[0m\u001b[0minplace\u001b[0m\u001b[1;33m,\u001b[0m \u001b[1;34m\"inplace\"\u001b[0m\u001b[1;33m)\u001b[0m\u001b[1;33m\u001b[0m\u001b[1;33m\u001b[0m\u001b[0m\n\u001b[0;32m   6816\u001b[0m         \u001b[0mignore_index\u001b[0m \u001b[1;33m=\u001b[0m \u001b[0mvalidate_bool_kwarg\u001b[0m\u001b[1;33m(\u001b[0m\u001b[0mignore_index\u001b[0m\u001b[1;33m,\u001b[0m \u001b[1;34m\"ignore_index\"\u001b[0m\u001b[1;33m)\u001b[0m\u001b[1;33m\u001b[0m\u001b[1;33m\u001b[0m\u001b[0m\n\u001b[0;32m   6817\u001b[0m \u001b[1;33m\u001b[0m\u001b[0m\n\u001b[1;32m-> 6818\u001b[1;33m         \u001b[0mresult\u001b[0m \u001b[1;33m=\u001b[0m \u001b[0mself\u001b[0m\u001b[1;33m[\u001b[0m\u001b[1;33m-\u001b[0m\u001b[0mself\u001b[0m\u001b[1;33m.\u001b[0m\u001b[0mduplicated\u001b[0m\u001b[1;33m(\u001b[0m\u001b[0msubset\u001b[0m\u001b[1;33m,\u001b[0m \u001b[0mkeep\u001b[0m\u001b[1;33m=\u001b[0m\u001b[0mkeep\u001b[0m\u001b[1;33m)\u001b[0m\u001b[1;33m]\u001b[0m\u001b[1;33m\u001b[0m\u001b[1;33m\u001b[0m\u001b[0m\n\u001b[0m\u001b[0;32m   6819\u001b[0m         \u001b[1;32mif\u001b[0m \u001b[0mignore_index\u001b[0m\u001b[1;33m:\u001b[0m\u001b[1;33m\u001b[0m\u001b[1;33m\u001b[0m\u001b[0m\n\u001b[0;32m   6820\u001b[0m             \u001b[0mresult\u001b[0m\u001b[1;33m.\u001b[0m\u001b[0mindex\u001b[0m \u001b[1;33m=\u001b[0m \u001b[0mdefault_index\u001b[0m\u001b[1;33m(\u001b[0m\u001b[0mlen\u001b[0m\u001b[1;33m(\u001b[0m\u001b[0mresult\u001b[0m\u001b[1;33m)\u001b[0m\u001b[1;33m)\u001b[0m\u001b[1;33m\u001b[0m\u001b[1;33m\u001b[0m\u001b[0m\n\u001b[0;32m   6821\u001b[0m \u001b[1;33m\u001b[0m\u001b[0m\n",
      "\u001b[1;32mc:\\Users\\balla\\Documents\\ay24prj\\.venv\\Lib\\site-packages\\pandas\\core\\frame.py\u001b[0m in \u001b[0;36m?\u001b[1;34m(self, subset, keep)\u001b[0m\n\u001b[0;32m   6946\u001b[0m         \u001b[1;31m# Otherwise, raise a KeyError, same as if you try to __getitem__ with a\u001b[0m\u001b[1;33m\u001b[0m\u001b[1;33m\u001b[0m\u001b[0m\n\u001b[0;32m   6947\u001b[0m         \u001b[1;31m# key that doesn't exist.\u001b[0m\u001b[1;33m\u001b[0m\u001b[1;33m\u001b[0m\u001b[0m\n\u001b[0;32m   6948\u001b[0m         \u001b[0mdiff\u001b[0m \u001b[1;33m=\u001b[0m \u001b[0mset\u001b[0m\u001b[1;33m(\u001b[0m\u001b[0msubset\u001b[0m\u001b[1;33m)\u001b[0m \u001b[1;33m-\u001b[0m \u001b[0mset\u001b[0m\u001b[1;33m(\u001b[0m\u001b[0mself\u001b[0m\u001b[1;33m.\u001b[0m\u001b[0mcolumns\u001b[0m\u001b[1;33m)\u001b[0m\u001b[1;33m\u001b[0m\u001b[1;33m\u001b[0m\u001b[0m\n\u001b[0;32m   6949\u001b[0m         \u001b[1;32mif\u001b[0m \u001b[0mdiff\u001b[0m\u001b[1;33m:\u001b[0m\u001b[1;33m\u001b[0m\u001b[1;33m\u001b[0m\u001b[0m\n\u001b[1;32m-> 6950\u001b[1;33m             \u001b[1;32mraise\u001b[0m \u001b[0mKeyError\u001b[0m\u001b[1;33m(\u001b[0m\u001b[0mIndex\u001b[0m\u001b[1;33m(\u001b[0m\u001b[0mdiff\u001b[0m\u001b[1;33m)\u001b[0m\u001b[1;33m)\u001b[0m\u001b[1;33m\u001b[0m\u001b[1;33m\u001b[0m\u001b[0m\n\u001b[0m\u001b[0;32m   6951\u001b[0m \u001b[1;33m\u001b[0m\u001b[0m\n\u001b[0;32m   6952\u001b[0m         \u001b[1;32mif\u001b[0m \u001b[0mlen\u001b[0m\u001b[1;33m(\u001b[0m\u001b[0msubset\u001b[0m\u001b[1;33m)\u001b[0m \u001b[1;33m==\u001b[0m \u001b[1;36m1\u001b[0m \u001b[1;32mand\u001b[0m \u001b[0mself\u001b[0m\u001b[1;33m.\u001b[0m\u001b[0mcolumns\u001b[0m\u001b[1;33m.\u001b[0m\u001b[0mis_unique\u001b[0m\u001b[1;33m:\u001b[0m\u001b[1;33m\u001b[0m\u001b[1;33m\u001b[0m\u001b[0m\n\u001b[0;32m   6953\u001b[0m             \u001b[1;31m# GH#45236 This is faster than get_group_index below\u001b[0m\u001b[1;33m\u001b[0m\u001b[1;33m\u001b[0m\u001b[0m\n",
      "\u001b[1;31mKeyError\u001b[0m: Index(['first_name', 'username', 'last_name'], dtype='object')"
     ]
    }
   ],
   "source": [
    "# Execute the process_files function with the file_paths argument\n",
    "processed_dataframes = process_files(file_paths)\n",
    "\n",
    "# Optional: Print out the processed dataframes or perform further analysis\n",
    "for name, df in processed_dataframes:\n",
    "    print(f\"Processed dataframe: {name}\")\n",
    "    print(df.head())  # Example: Display the first few rows of each processed dataframe\n",
    "    "
   ]
  },
  {
   "cell_type": "code",
   "execution_count": null,
   "metadata": {},
   "outputs": [],
   "source": [
    "# List of file paths\n",
    "files = [\n",
    "    \"cleaned_data/C100.csv\",\n",
    "    \"cleaned_data/C200.csv\",\n",
    "    \"cleaned_data/C300.csv\",\n",
    "    \"cleaned_data/C400.csv\",\n",
    "    \"cleaned_data/C500.csv\",\n",
    "    \"cleaned_data/F100.csv\",\n",
    "    \"cleaned_data/H100.csv\",\n",
    "    \"cleaned_data/S100.csv\",\n",
    "    \"cleaned_data/M000.csv\",\n",
    "    \"cleaned_data/M100.csv\",\n",
    "    \"cleaned_data/M200.csv\",\n",
    "    \"cleaned_data/M300.csv\",\n",
    "    \"cleaned_data/M400.csv\"\n",
    "]\n",
    "\n",
    "# Create 'compiled_reports' directory if it doesn't exist\n",
    "if not os.path.exists('compiled_reports'):\n",
    "    os.makedirs('compiled_reports')\n",
    "\n",
    "# Dictionaries to hold DataFrames and column headers\n",
    "dataframes = {}\n",
    "column_headers = {}\n",
    "\n",
    "# Load each file into a DataFrame, store it, and extract column headers\n",
    "for file_path in files:\n",
    "    key = file_path.split('/')[-1].replace('.csv', '')\n",
    "    df = pd.read_csv(file_path)\n",
    "    dataframes[key] = df\n",
    "    column_headers[key] = df.columns.tolist()\n",
    "\n",
    "# Print column headers for each file\n",
    "for key, headers in column_headers.items():\n",
    "    print(f\"Column headers for {key}:\")\n",
    "    print(headers)\n",
    "    print(\"\\n\")\n"
   ]
  },
  {
   "cell_type": "markdown",
   "metadata": {},
   "source": [
    "#### Student report ( use the identifier)"
   ]
  },
  {
   "cell_type": "markdown",
   "metadata": {},
   "source": [
    "### Step 2: Define the list of unique identifiers you want to extract"
   ]
  },
  {
   "cell_type": "code",
   "execution_count": null,
   "metadata": {},
   "outputs": [],
   "source": [
    "# Replace these example identifiers with your actual ones\n",
    "unique_identifiers_to_extract = ['KR09A']\n",
    "\n",
    "# Initialize an empty list to hold dataframes\n",
    "dfs = []\n"
   ]
  },
  {
   "cell_type": "markdown",
   "metadata": {},
   "source": [
    "### Step 3: Read each CSV file and extract rows with specified unique identifiers"
   ]
  },
  {
   "cell_type": "code",
   "execution_count": null,
   "metadata": {},
   "outputs": [],
   "source": [
    "for file in csv_files:\n",
    "    df = pd.read_csv(file)\n",
    "    for identifier in unique_identifiers_to_extract:\n",
    "        # Extract the row(s) with the current identifier if it exists\n",
    "        if identifier in df['identifier'].values:\n",
    "            row = df[df['identifier'] == identifier]\n",
    "            dfs.append(row)\n"
   ]
  },
  {
   "cell_type": "markdown",
   "metadata": {},
   "source": [
    "### Step 4: Compile the rows into a single DataFrame"
   ]
  },
  {
   "cell_type": "code",
   "execution_count": null,
   "metadata": {},
   "outputs": [],
   "source": [
    "# Compile the rows into a single DataFrame\n",
    "compiled_df = pd.concat(dfs, ignore_index=True)"
   ]
  },
  {
   "cell_type": "markdown",
   "metadata": {},
   "source": [
    "### Step 5: Save the compiled report to a new CSV file"
   ]
  },
  {
   "cell_type": "code",
   "execution_count": null,
   "metadata": {},
   "outputs": [],
   "source": [
    "compiled_df.to_csv('compiled_reports/KR09A_compiled_report.csv', index=False)\n",
    "\n",
    "# Display the compiled DataFrame\n",
    "compiled_df.head()\n"
   ]
  }
 ],
 "metadata": {
  "kernelspec": {
   "display_name": ".venv",
   "language": "python",
   "name": "python3"
  },
  "language_info": {
   "codemirror_mode": {
    "name": "ipython",
    "version": 3
   },
   "file_extension": ".py",
   "mimetype": "text/x-python",
   "name": "python",
   "nbconvert_exporter": "python",
   "pygments_lexer": "ipython3",
   "version": "3.12.4"
  }
 },
 "nbformat": 4,
 "nbformat_minor": 2
}

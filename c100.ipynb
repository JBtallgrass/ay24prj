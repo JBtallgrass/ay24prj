{
 "cells": [
  {
   "cell_type": "code",
   "execution_count": 3,
   "metadata": {},
   "outputs": [],
   "source": [
    "# Import dependencies\n",
    "import matplotlib.pyplot as plt\n",
    "import pandas as pd\n",
    "import os\n",
    "import seaborn as sns\n",
    "from scipy import stats\n",
    "import numpy as np\n",
    "from sklearn.model_selection import train_test_split\n",
    "from sklearn.linear_model import LinearRegression\n",
    "from sklearn import metrics\n",
    "from sklearn.linear_model import ElasticNet, Lasso, Ridge\n",
    "from sklearn.model_selection import KFold, cross_val_score \n"
   ]
  },
  {
   "cell_type": "code",
   "execution_count": 4,
   "metadata": {},
   "outputs": [
    {
     "name": "stdout",
     "output_type": "stream",
     "text": [
      "Read data/C100/c100_SEC01.csv successfully with 59 rows.\n",
      "Read data/C100/c100_SEC02.csv successfully with 59 rows.\n",
      "Read data/C100/c100_SEC04.csv successfully with 59 rows.\n",
      "Read data/C100/c100_SEC05.csv successfully with 59 rows.\n",
      "Read data/C100/c100_SEC06.csv successfully with 60 rows.\n",
      "Read data/C100/c100_SEC07.csv successfully with 58 rows.\n",
      "Read data/C100/c100_SEC08.csv successfully with 59 rows.\n",
      "Read data/C100/c100_SEC09.csv successfully with 59 rows.\n",
      "Read data/C100/c100_SEC10.csv successfully with 58 rows.\n",
      "Read data/C100/c100_SEC11.csv successfully with 59 rows.\n",
      "Read data/C100/c100_SEC12.csv successfully with 58 rows.\n",
      "Read data/C100/c100_SEC13.csv successfully with 59 rows.\n",
      "Read data/C100/c100_SEC14.csv successfully with 59 rows.\n",
      "Read data/C100/c100_SEC15.csv successfully with 60 rows.\n",
      "Read data/C100/c100_SEC16.csv successfully with 59 rows.\n",
      "Read data/C100/c100_SEC17.csv successfully with 59 rows.\n",
      "Read data/C100/c100_SEC18.csv successfully with 59 rows.\n",
      "Read data/C100/c100_SEC19.csv successfully with 59 rows.\n",
      "Data compiled and saved successfully.\n",
      "Total rows in compiled dataframe: 1061\n"
     ]
    }
   ],
   "source": [
    "# List of CSV files\n",
    "csv_files = [\n",
    "    'data/C100/c100_SEC01.csv', 'data/C100/c100_SEC02.csv', 'data/C100/c100_SEC04.csv',\n",
    "    'data/C100/c100_SEC05.csv', 'data/C100/c100_SEC06.csv', 'data/C100/c100_SEC07.csv',\n",
    "    'data/C100/c100_SEC08.csv', 'data/C100/c100_SEC09.csv', 'data/C100/c100_SEC10.csv',\n",
    "    'data/C100/c100_SEC11.csv', 'data/C100/c100_SEC12.csv', 'data/C100/c100_SEC13.csv',\n",
    "    'data/C100/c100_SEC14.csv', 'data/C100/c100_SEC15.csv', 'data/C100/c100_SEC16.csv',\n",
    "    'data/C100/c100_SEC17.csv', 'data/C100/c100_SEC18.csv', 'data/C100/c100_SEC19.csv'\n",
    "]\n",
    "\n",
    "# Initialize an empty list to store DataFrames\n",
    "dataframes = []\n",
    "\n",
    "# Read the first CSV file to get the correct column headers\n",
    "initial_df = pd.read_csv(csv_files[0])\n",
    "correct_columns = initial_df.columns\n",
    "\n",
    "# Process the first file\n",
    "dataframes.append(initial_df)\n",
    "print(f\"Read {csv_files[0]} successfully with {len(initial_df)} rows.\")\n",
    "\n",
    "# Loop through the remaining files\n",
    "for file in csv_files[1:]:\n",
    "    try:\n",
    "        # Read the current CSV file into a DataFrame\n",
    "        df = pd.read_csv(file)\n",
    "        \n",
    "        # Rename columns to match the correct columns\n",
    "        df.columns = correct_columns\n",
    "        \n",
    "        print(f\"Read {file} successfully with {len(df)} rows.\")\n",
    "        \n",
    "        # Drop rows where all cells are blank\n",
    "        df.dropna(how='all', inplace=True)\n",
    "        \n",
    "        # Append the DataFrame to the list\n",
    "        dataframes.append(df)\n",
    "        \n",
    "    except Exception as e:\n",
    "        print(f\"Failed to read {file}: {e}\")\n",
    "\n",
    "# Check if there are any DataFrames to concatenate\n",
    "if dataframes:\n",
    "    # Concatenate all DataFrames in the list into a single DataFrame\n",
    "    c100_df = pd.concat(dataframes, ignore_index=True)\n",
    "    \n",
    "    # Save the compiled DataFrame\n",
    "    c100_df.to_csv('cleaned_data/c100_compiled_dataframe.csv', index=False)\n",
    "    print(\"Data compiled and saved successfully.\")\n",
    "    print(f\"Total rows in compiled dataframe: {len(c100_df)}\")\n",
    "else:\n",
    "    print(\"No dataframes to concatenate.\")"
   ]
  }
 ],
 "metadata": {
  "kernelspec": {
   "display_name": ".venv",
   "language": "python",
   "name": "python3"
  },
  "language_info": {
   "codemirror_mode": {
    "name": "ipython",
    "version": 3
   },
   "file_extension": ".py",
   "mimetype": "text/x-python",
   "name": "python",
   "nbconvert_exporter": "python",
   "pygments_lexer": "ipython3",
   "version": "3.11.9"
  }
 },
 "nbformat": 4,
 "nbformat_minor": 2
}

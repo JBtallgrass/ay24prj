{
 "cells": [
  {
   "cell_type": "code",
   "execution_count": 3,
   "metadata": {},
   "outputs": [],
   "source": [
    "# Import dependencies\n",
    "import matplotlib.pyplot as plt\n",
    "import pandas as pd\n",
    "import os\n",
    "import seaborn as sns\n",
    "from scipy import stats\n",
    "import numpy as np\n",
    "from sklearn.model_selection import train_test_split\n",
    "from sklearn.linear_model import LinearRegression\n",
    "from sklearn import metrics\n",
    "from sklearn.linear_model import ElasticNet, Lasso, Ridge\n",
    "from sklearn.model_selection import KFold, cross_val_score \n",
    "import statsmodels.api as sm\n"
   ]
  },
  {
   "cell_type": "code",
   "execution_count": 4,
   "metadata": {},
   "outputs": [],
   "source": [
    "# Define the folder path\n",
    "folder_path = 'data'\n",
    "cleaned_folder_path = 'cleaned_data'\n",
    "\n",
    "# Create a folder to save cleaned files if it doesn't exist\n",
    "if not os.path.exists(cleaned_folder_path):\n",
    "    os.makedirs(cleaned_folder_path)\n"
   ]
  },
  {
   "cell_type": "code",
   "execution_count": 6,
   "metadata": {},
   "outputs": [],
   "source": [
    "def clean_dataframe(df):\n",
    "    # Example cleaning steps:\n",
    "    \n",
    "    # 1. Drop rows with missing values\n",
    "    df.dropna(inplace=True)\n",
    "    \n",
    "    # 2. Remove duplicate rows\n",
    "    df.drop_duplicates(inplace=True)\n",
    "    \n",
    "    # 3. Strip whitespace from string columns\n",
    "    df.columns = df.columns.str.strip()\n",
    "    for col in df.select_dtypes(include=['object']).columns:\n",
    "        df[col] = df[col].str.strip()\n",
    "    \n",
    "    # 4. Rename columns (example: convert to lowercase and replace spaces with underscores)\n",
    "    df.columns = [col.lower().replace(' ', '_') for col in df.columns]\n",
    "    \n",
    "    # 5. Convert column data types (example: ensure numerical columns are float)\n",
    "    for col in df.select_dtypes(include=['object']).columns:\n",
    "        if df[col].str.isnumeric().all():\n",
    "            df[col] = df[col].astype(float)\n",
    "    \n",
    "    return df"
   ]
  },
  {
   "cell_type": "code",
   "execution_count": 7,
   "metadata": {},
   "outputs": [
    {
     "name": "stderr",
     "output_type": "stream",
     "text": [
      "C:\\Users\\balla\\AppData\\Local\\Temp\\ipykernel_18860\\4077040187.py:12: DtypeWarning: Columns (6,7,8,9,10,12,13,14,19,24,56,58,70,91) have mixed types. Specify dtype option on import or set low_memory=False.\n",
      "  df = pd.read_csv(file_path)\n"
     ]
    }
   ],
   "source": [
    "# List all CSV files in the folder\n",
    "csv_files = [f for f in os.listdir(folder_path) if f.endswith('.csv')]\n",
    "\n",
    "# Initialize a list to hold the extracted grades DataFrame\n",
    "grades_list = []\n",
    "\n",
    "# Read, clean, extract grades, and save each CSV file\n",
    "for file in csv_files:\n",
    "    file_path = os.path.join(folder_path, file)\n",
    "    \n",
    "    # Read CSV file into DataFrame\n",
    "    df = pd.read_csv(file_path)"
   ]
  }
 ],
 "metadata": {
  "kernelspec": {
   "display_name": ".venv",
   "language": "python",
   "name": "python3"
  },
  "language_info": {
   "codemirror_mode": {
    "name": "ipython",
    "version": 3
   },
   "file_extension": ".py",
   "mimetype": "text/x-python",
   "name": "python",
   "nbconvert_exporter": "python",
   "pygments_lexer": "ipython3",
   "version": "3.12.4"
  }
 },
 "nbformat": 4,
 "nbformat_minor": 2
}

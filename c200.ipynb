{
 "cells": [
  {
   "cell_type": "code",
   "execution_count": 1,
   "metadata": {},
   "outputs": [],
   "source": [
    "# Import dependencies\n",
    "import matplotlib.pyplot as plt\n",
    "import pandas as pd\n",
    "import os\n",
    "import seaborn as sns\n",
    "from scipy import stats\n",
    "import numpy as np\n",
    "from sklearn.model_selection import train_test_split\n",
    "from sklearn.linear_model import LinearRegression\n",
    "from sklearn import metrics\n",
    "from sklearn.linear_model import ElasticNet, Lasso, Ridge\n",
    "from sklearn.model_selection import KFold, cross_val_score \n",
    "import statsmodels.api as sm"
   ]
  },
  {
   "cell_type": "code",
   "execution_count": 3,
   "metadata": {},
   "outputs": [],
   "source": [
    "# read in mulitple csv files\n",
    "csv_files = ['data/C200.csv'\n",
    "            ]\n",
    "\n",
    "# Initialize an empty list to store DataFrames\n",
    "dataframes = []\n",
    "\n",
    "# Read the first CSV file to get the column headers\n",
    "initial_df = pd.read_csv(csv_files[0])\n",
    "initial_columns = initial_df.columns\n",
    "\n",
    "# Loop through the list of files\n",
    "for file in csv_files:\n",
    "    # Read the current CSV file into a DataFrame, ensuring it matches the initial columns\n",
    "    df = pd.read_csv(file, usecols=lambda column: column in initial_columns).reindex(columns=initial_columns)\n",
    "       \n",
    "    # Drop rows where all cells are blank\n",
    "    df.dropna(how='all', inplace=True)\n",
    "    \n",
    "    # Append the DataFrame to the list\n",
    "    dataframes.append(df)\n",
    "\n",
    "# Concatenate all DataFrames in the list into a single DataFrame\n",
    "C200_df = pd.concat(dataframes, ignore_index=True)\n",
    "\n",
    "# Optionally, handle blanks in the compiled DataFrame as well\n",
    "\n",
    "# Save the compiled DataFrame\n",
    "C200_df.to_csv('cleaned_data/C200_cleaned_df.csv', index=False)"
   ]
  },
  {
   "cell_type": "markdown",
   "metadata": {},
   "source": [
    "## Load the Compiled DataFrame"
   ]
  },
  {
   "cell_type": "code",
   "execution_count": null,
   "metadata": {},
   "outputs": [],
   "source": [
    "# Load the compiled DataFrame\n",
    "C200_df = pd.read_csv('cleaned_data/C200_cleaned_df.csv')\n",
    "\n",
    "# Split the 'learner_id' column\n",
    "C200_df['team_number'] = C200_df['learner_id'].str.extract('(\\d+)')\n",
    "C200_df['section'] = C200_df['learner_id'].str.extract('([A-Z]+)')\n",
    "\n",
    "# Convert 'team_number' to numeric\n",
    "C200_df['team_number'] = pd.to_numeric(C200_df['team_number'])\n",
    "\n",
    "# Drop the original 'learner_id' column if no longer needed\n",
    "C200_df.drop(columns=['learner_id'], inplace=True)\n",
    "\n",
    "# Remove duplicate rows\n",
    "C200_df.drop_duplicates(inplace=True)\n",
    "\n",
    "# Save the updated DataFrame\n",
    "C200_df.to_csv('data/C200_updated_df.csv', index=False)\n",
    "\n",
    "# Display the first few rows to check the result\n",
    "print(C200_df.head())\n"
   ]
  },
  {
   "cell_type": "markdown",
   "metadata": {},
   "source": [
    "##  Basic Descriptive Statistics"
   ]
  },
  {
   "cell_type": "code",
   "execution_count": null,
   "metadata": {},
   "outputs": [],
   "source": [
    "# Summary statistics for numerical columns\n",
    "numerical_summary = C200_df.describe()\n",
    "\n",
    "# Summary statistics for categorical columns\n",
    "categorical_summary = C200_df.describe(include=['object', 'category'])\n",
    "\n",
    "# Get information about the DataFrame\n",
    "info = C200_df.info()\n",
    "\n",
    "# Display the summaries\n",
    "print(numerical_summary)\n",
    "print(categorical_summary)\n",
    "print(info)\n"
   ]
  },
  {
   "cell_type": "markdown",
   "metadata": {},
   "source": [
    "##  Visualizations"
   ]
  },
  {
   "cell_type": "code",
   "execution_count": null,
   "metadata": {},
   "outputs": [],
   "source": [
    "# Set the aesthetic style of the plots\n",
    "sns.set_style(\"whitegrid\")\n",
    "\n",
    "# Histogram of a numerical column (replace 'numerical_column' with your actual column name)\n",
    "plt.figure(figsize=(10, 6))\n",
    "sns.histplot(C200_df['numerical_column'], kde=True)\n",
    "plt.title('Distribution of Numerical Column')\n",
    "plt.xlabel('Numerical Column')\n",
    "plt.ylabel('Frequency')\n",
    "plt.show()\n",
    "\n",
    "# Bar plot of a categorical column (replace 'categorical_column' with your actual column name)\n",
    "plt.figure(figsize=(10, 6))\n",
    "sns.countplot(data=C200_df, x='categorical_column')\n",
    "plt.title('Frequency of Categorical Column')\n",
    "plt.xlabel('Categorical Column')\n",
    "plt.ylabel('Count')\n",
    "plt.show()\n",
    "\n",
    "# Box plot of a numerical column (replace 'numerical_column' with your actual column name)\n",
    "plt.figure(figsize=(10, 6))\n",
    "sns.boxplot(data=C200_df, y='numerical_column')\n",
    "plt.title('Box Plot of Numerical Column')\n",
    "plt.ylabel('Numerical Column')\n",
    "plt.show()\n"
   ]
  },
  {
   "cell_type": "code",
   "execution_count": null,
   "metadata": {},
   "outputs": [],
   "source": [
    "# Group by a categorical column and calculate the mean of numerical columns (replace with actual column names)\n",
    "grouped_summary = C200_df.groupby('categorical_column').mean()\n",
    "\n",
    "print(grouped_summary)\n"
   ]
  },
  {
   "cell_type": "code",
   "execution_count": null,
   "metadata": {},
   "outputs": [],
   "source": [
    "# Load the compiled DataFrame\n",
    "C200_df = pd.read_csv('cleaned_data/C200_compiled_dataframe.csv')\n",
    "\n",
    "# Basic Descriptive Statistics\n",
    "numerical_summary = C200_df[['age', 'score']].describe()\n",
    "categorical_summary = C200_df['gender'].value_counts()\n",
    "info = C200_df.info()\n",
    "\n",
    "# Display the summaries\n",
    "print(numerical_summary)\n",
    "print(categorical_summary)\n",
    "print(info)\n",
    "\n",
    "# Visualizations\n",
    "# Histogram of 'age'\n",
    "plt.figure(figsize=(10, 6))\n",
    "sns.histplot(C200_df['age'], kde=True)\n",
    "plt.title('Distribution of Age')\n",
    "plt.xlabel('Age')\n",
    "plt.ylabel('Frequency')\n",
    "plt.show()\n",
    "\n",
    "# Bar plot of 'gender'\n",
    "plt.figure(figsize=(10, 6))\n",
    "sns.countplot(data=C200_df, x='gender')\n",
    "plt.title('Frequency of Gender')\n",
    "plt.xlabel('Gender')\n",
    "plt.ylabel('Count')\n",
    "plt.show()\n",
    "\n",
    "# Box plot of 'score'\n",
    "plt.figure(figsize=(10, 6))\n",
    "sns.boxplot(data=C200_df, y='score')\n",
    "plt.title('Box Plot of Score')\n",
    "plt.ylabel('Score')\n",
    "plt.show()\n",
    "\n",
    "# Group by 'gender' and calculate the mean of 'age' and 'score'\n",
    "grouped_summary = C200_df.groupby('gender')[['age', 'score']].mean()\n",
    "print(grouped_summary)\n"
   ]
  }
 ],
 "metadata": {
  "kernelspec": {
   "display_name": ".venv",
   "language": "python",
   "name": "python3"
  },
  "language_info": {
   "codemirror_mode": {
    "name": "ipython",
    "version": 3
   },
   "file_extension": ".py",
   "mimetype": "text/x-python",
   "name": "python",
   "nbconvert_exporter": "python",
   "pygments_lexer": "ipython3",
   "version": "3.12.4"
  }
 },
 "nbformat": 4,
 "nbformat_minor": 2
}

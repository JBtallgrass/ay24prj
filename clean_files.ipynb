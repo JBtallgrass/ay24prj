{
 "cells": [
  {
   "cell_type": "code",
   "execution_count": 1,
   "metadata": {},
   "outputs": [],
   "source": [
    "# Import dependencies\n",
    "import matplotlib.pyplot as plt\n",
    "import pandas as pd\n",
    "import os\n",
    "import seaborn as sns\n",
    "from scipy import stats\n",
    "import numpy as np\n",
    "from sklearn.model_selection import train_test_split\n",
    "from sklearn.linear_model import LinearRegression\n",
    "from sklearn import metrics\n",
    "from sklearn.linear_model import ElasticNet, Lasso, Ridge\n",
    "from sklearn.model_selection import KFold, cross_val_score \n",
    "import statsmodels.api as sm"
   ]
  },
  {
   "cell_type": "code",
   "execution_count": null,
   "metadata": {},
   "outputs": [],
   "source": [
    "\n",
    "# Create the cleaned_data directory if it doesn't exist\n",
    "if not os.path.exists('cleaned_data'):\n",
    "    os.makedirs('cleaned_data')\n",
    "\n",
    "if not os.path.exists('images'):\n",
    "    os.makedirs('images')\n"
   ]
  },
  {
   "cell_type": "markdown",
   "metadata": {},
   "source": [
    "## Read in the csv file"
   ]
  },
  {
   "cell_type": "code",
   "execution_count": null,
   "metadata": {},
   "outputs": [],
   "source": [
    "# List of CSV files to process\n",
    "csv_files = [\n",
    "    'data/C100.csv',\n",
    "    'data/C200.csv',\n",
    "    'data/C300.csv',\n",
    "    'data/C400.csv',\n",
    "    'data/C500.csv',\n",
    "    'data/F100.csv',\n",
    "    'data/H100.csv',\n",
    "    'data/L100.csv',\n",
    "    'data/M000.csv',\n",
    "    'data/M100.csv',\n",
    "    'data/M200.csv',\n",
    "    'data/M300.csv',\n",
    "    'data/M400.csv'\n",
    "]"
   ]
  },
  {
   "cell_type": "code",
   "execution_count": null,
   "metadata": {},
   "outputs": [],
   "source": [
    "\n",
    "# Function to clean column names\n",
    "def clean_column_names(df):\n",
    "    df.columns = [col.strip().lower().replace(\" \", \"_\") for col in df.columns]\n",
    "    return df\n",
    "\n",
    "# Function to clean a single CSV file and save it\n",
    "def clean_and_save_csv(file_path):\n",
    "    # Read the CSV file into a DataFrame\n",
    "    df = pd.read_csv(file_path)\n",
    "    \n",
    "    # Drop rows where all cells are blank\n",
    "    df.dropna(how='all', inplace=True)\n",
    "    \n",
    "    # Clean column names\n",
    "    df = clean_column_names(df)\n",
    "    \n",
    "    # Define the cleaned file path\n",
    "    cleaned_file_path = os.path.join('cleaned_data', os.path.basename(file_path))\n",
    "    \n",
    "    # Save the cleaned DataFrame\n",
    "    df.to_csv(cleaned_file_path, index=False)\n",
    "    print(f\"Cleaned file saved to: {cleaned_file_path}\")\n",
    "    \n",
    "    return df\n",
    "\n",
    "\n",
    "# Process each CSV file and store the cleaned DataFrames\n",
    "cleaned_dataframes = [clean_and_save_csv(file) for file in csv_files]\n",
    "\n",
    "# Perform descriptive analysis on each cleaned DataFrame\n",
    "for df in cleaned_dataframes:\n",
    "    descriptive_analysis(df)\n"
   ]
  },
  {
   "cell_type": "code",
   "execution_count": null,
   "metadata": {},
   "outputs": [],
   "source": []
  }
 ],
 "metadata": {
  "kernelspec": {
   "display_name": ".venv",
   "language": "python",
   "name": "python3"
  },
  "language_info": {
   "codemirror_mode": {
    "name": "ipython",
    "version": 3
   },
   "file_extension": ".py",
   "mimetype": "text/x-python",
   "name": "python",
   "nbconvert_exporter": "python",
   "pygments_lexer": "ipython3",
   "version": "3.12.4"
  }
 },
 "nbformat": 4,
 "nbformat_minor": 2
}
